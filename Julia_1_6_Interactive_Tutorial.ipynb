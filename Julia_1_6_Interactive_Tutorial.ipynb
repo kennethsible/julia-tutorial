{
  "nbformat": 4,
  "nbformat_minor": 2,
  "metadata": {
    "colab": {
      "name": "Julia 1.6 Interactive Tutorial",
      "provenance": [],
      "collapsed_sections": []
    },
    "kernelspec": {
      "name": "julia-1.6",
      "display_name": "Julia 1.6.2",
      "language": "julia"
    },
    "language_info": {
      "file_extension": ".jl",
      "name": "julia",
      "mimetype": "application/julia",
      "version": "1.6.2"
    }
  },
  "cells": [
    {
      "cell_type": "markdown",
      "source": [
        "# Julia 1.6 Interactive Tutorial\n",
        "\n",
        "## Julia Enviroment\n",
        "``` $ julia script.jl arg1 arg2 ... ```\n",
        "\n",
        "- `?` Help Interface\n",
        "- `;` Shell Command\n",
        "- `]` Package Manager"
      ],
      "metadata": {
        "id": "v9Fye7A1_nWY"
      }
    },
    {
      "cell_type": "markdown",
      "source": [
        "## Variables and Math Operations"
      ],
      "metadata": {
        "id": "y3b488rw_hYP"
      }
    },
    {
      "cell_type": "code",
      "execution_count": 74,
      "source": [
        "# Unicode Variable\n",
        "δ = 0.01 # \\delta (TAB)"
      ],
      "outputs": [
        {
          "output_type": "execute_result",
          "data": {
            "text/plain": [
              "0.01"
            ]
          },
          "metadata": {},
          "execution_count": 74
        }
      ],
      "metadata": {}
    },
    {
      "cell_type": "code",
      "execution_count": 75,
      "source": [
        "# Implied Multiplication\n",
        "x = 3\n",
        "println(2x^2 - 3x + 1)"
      ],
      "outputs": [
        {
          "output_type": "stream",
          "name": "stdout",
          "text": [
            "10\n"
          ]
        }
      ],
      "metadata": {}
    },
    {
      "cell_type": "code",
      "execution_count": 76,
      "source": [
        "# Update Variable\n",
        "x += 1 # x = x + 1"
      ],
      "outputs": [
        {
          "output_type": "execute_result",
          "data": {
            "text/plain": [
              "4"
            ]
          },
          "metadata": {},
          "execution_count": 76
        }
      ],
      "metadata": {}
    },
    {
      "cell_type": "code",
      "execution_count": 77,
      "source": [
        "# Test Special Value\n",
        "isfinite(x), isinf(x), isnan(x)"
      ],
      "outputs": [
        {
          "output_type": "execute_result",
          "data": {
            "text/plain": [
              "(true, false, false)"
            ]
          },
          "metadata": {},
          "execution_count": 77
        }
      ],
      "metadata": {}
    },
    {
      "cell_type": "code",
      "execution_count": 78,
      "source": [
        "# Chain Comparison\n",
        "println(2 < x < 5)\n",
        "println(1 < 2 <= 2 < 3 == 3)"
      ],
      "outputs": [
        {
          "output_type": "stream",
          "name": "stdout",
          "text": [
            "true\n",
            "true\n"
          ]
        }
      ],
      "metadata": {}
    },
    {
      "cell_type": "code",
      "execution_count": 79,
      "source": [
        "# Numerical Conversion\n",
        "Int(1.0) # convert(Int, 1.0) "
      ],
      "outputs": [
        {
          "output_type": "execute_result",
          "data": {
            "text/plain": [
              "1"
            ]
          },
          "metadata": {},
          "execution_count": 79
        }
      ],
      "metadata": {
        "colab": {
          "base_uri": "https://localhost:8080/",
          "height": 130
        },
        "id": "GPb2hTBeB2jN",
        "outputId": "14e3c8c3-b18f-49ad-c5fa-3926a0c9a3b4"
      }
    },
    {
      "cell_type": "code",
      "execution_count": 80,
      "source": [
        "# Int Division\n",
        "7 ÷ 3 # div(5, 3)"
      ],
      "outputs": [
        {
          "output_type": "execute_result",
          "data": {
            "text/plain": [
              "2"
            ]
          },
          "metadata": {},
          "execution_count": 80
        }
      ],
      "metadata": {}
    },
    {
      "cell_type": "code",
      "execution_count": 81,
      "source": [
        "# Decimal Rounding\n",
        "x = 3.14159\n",
        "println(round(x))\n",
        "floor(x); ceil(x); trunc(x);"
      ],
      "outputs": [
        {
          "output_type": "stream",
          "name": "stdout",
          "text": [
            "3.0\n"
          ]
        }
      ],
      "metadata": {}
    },
    {
      "cell_type": "markdown",
      "source": [
        "## Complex and Rational Numbers"
      ],
      "metadata": {
        "id": "AR5R2cFAB8NI"
      }
    },
    {
      "cell_type": "code",
      "execution_count": 82,
      "source": [
        "z = 1 + 2im # Complex [im ≡ √(-1)]\n",
        "println(\"Re(z) = $(real(z)), Im(z) = $(imag(z))\")\n",
        "println(\"(Magnitude, Phase Angle) = ($(abs(z)), $(angle(z)))\")\n",
        "println(conj(z))\n",
        "a, b = 1, 2\n",
        "z = complex(a, b);"
      ],
      "outputs": [
        {
          "output_type": "stream",
          "name": "stdout",
          "text": [
            "Re(z) = 1, Im(z) = 2\n",
            "(Magnitude, Phase Angle) = (2.23606797749979, 1.1071487177940904)\n",
            "1 - 2im\n"
          ]
        }
      ],
      "metadata": {
        "id": "c8J-GOeDB9R9"
      }
    },
    {
      "cell_type": "code",
      "execution_count": 83,
      "source": [
        "k = 2//3 # Rational\n",
        "println((numerator(k), denominator(k)))\n",
        "println(float(3//4)) # Convert Rational -> Float\n",
        "println(1//3 - 0.33) # Type Promotion"
      ],
      "outputs": [
        {
          "output_type": "stream",
          "name": "stdout",
          "text": [
            "(2, 3)\n",
            "0.75\n",
            "0.0033333333333332993\n"
          ]
        }
      ],
      "metadata": {}
    },
    {
      "cell_type": "code",
      "execution_count": 11,
      "source": [
        "try\n",
        "    sqrt(-1)\n",
        "catch e\n",
        "    println(e)\n",
        "    sqrt(-1 + 0im)\n",
        "end"
      ],
      "outputs": [
        {
          "output_type": "stream",
          "name": "stdout",
          "text": [
            "DomainError(-1.0, \"sqrt will only return a complex result if called with a complex argument. Try sqrt(Complex(x)).\")\n"
          ]
        },
        {
          "output_type": "execute_result",
          "data": {
            "text/plain": [
              "0.0 + 1.0im"
            ]
          },
          "metadata": {},
          "execution_count": 11
        }
      ],
      "metadata": {}
    },
    {
      "cell_type": "markdown",
      "source": [
        "## Strings (Character Sequences)"
      ],
      "metadata": {
        "id": "OXaoCLPZB-Kl"
      }
    },
    {
      "cell_type": "code",
      "execution_count": 12,
      "source": [
        "println('\\u2200') # Unicode Character (∀)\n",
        "greeting = \"Hello\" # String Literal\n",
        "println(length(greeting))\n",
        "name = \"John\"\n",
        "println(name[1], \" \", name[end], \" \", name[2:3])"
      ],
      "outputs": [
        {
          "output_type": "stream",
          "name": "stdout",
          "text": [
            "∀\n",
            "5\n",
            "J n oh\n"
          ]
        }
      ],
      "metadata": {
        "id": "5GIUJ_ZjCA6t"
      }
    },
    {
      "cell_type": "code",
      "execution_count": 13,
      "source": [
        "println(greeting * \", \" * name) # String Concatenation\n",
        "println(\"$greeting, $(name)\") # String Interpolation\n",
        "println(join([greeting, name], \", \"))"
      ],
      "outputs": [
        {
          "output_type": "stream",
          "name": "stdout",
          "text": [
            "Hello, John\n",
            "Hello, John\n",
            "Hello, John\n"
          ]
        }
      ],
      "metadata": {}
    },
    {
      "cell_type": "markdown",
      "source": [
        "## Functions (Map: Tuple -> Value)"
      ],
      "metadata": {
        "id": "HStuY5X5CBGP"
      }
    },
    {
      "cell_type": "code",
      "execution_count": 14,
      "source": [
        "function f(x, y)\n",
        "    x + y\n",
        "end\n",
        "f(x, y) = x + y # Compact \"Assignment Form\"\n",
        "Σ(x, y) = x + y # Unicode Function Name"
      ],
      "outputs": [
        {
          "output_type": "execute_result",
          "data": {
            "text/plain": [
              "Σ (generic function with 1 method)"
            ]
          },
          "metadata": {},
          "execution_count": 14
        }
      ],
      "metadata": {}
    },
    {
      "cell_type": "code",
      "execution_count": 15,
      "source": [
        "g = f; g(2, 3) # Function Object\n",
        "1 + 2; +(1, 2) # Operators <=> Functions\n",
        "(x -> x^2 + 2x - 1)(5) # Anonymous Function"
      ],
      "outputs": [
        {
          "output_type": "execute_result",
          "data": {
            "text/plain": [
              "34"
            ]
          },
          "metadata": {},
          "execution_count": 15
        }
      ],
      "metadata": {}
    },
    {
      "cell_type": "code",
      "execution_count": 16,
      "source": [
        "# Functional Programming\n",
        "println(map(round, [1.2, 3.5, 1.7]))\n",
        "println(filter(x -> x % 2 == 0, [1, 2, 3, 4]))\n",
        "foreach(print, ['a', 'b'])"
      ],
      "outputs": [
        {
          "output_type": "stream",
          "name": "stdout",
          "text": [
            "[1.0, 4.0, 2.0]\n",
            "[2, 4]\n",
            "ab"
          ]
        }
      ],
      "metadata": {}
    },
    {
      "cell_type": "code",
      "execution_count": 17,
      "source": [
        "x = (a=1, b=2) # Named Tuple\n",
        "x.b"
      ],
      "outputs": [
        {
          "output_type": "execute_result",
          "data": {
            "text/plain": [
              "2"
            ]
          },
          "metadata": {},
          "execution_count": 17
        }
      ],
      "metadata": {}
    },
    {
      "cell_type": "code",
      "execution_count": 18,
      "source": [
        "function sumdiff(x, y)\n",
        "    x + y, x - y\n",
        "end\n",
        "x, y = sumdiff(10, 5) # Tuple Destructuring"
      ],
      "outputs": [
        {
          "output_type": "execute_result",
          "data": {
            "text/plain": [
              "(15, 5)"
            ]
          },
          "metadata": {},
          "execution_count": 18
        }
      ],
      "metadata": {}
    },
    {
      "cell_type": "code",
      "execution_count": 84,
      "source": [
        "∘(f, g) = (x...) -> f(g(x...)) # Composition"
      ],
      "outputs": [
        {
          "output_type": "execute_result",
          "data": {
            "text/plain": [
              "∘ (generic function with 1 method)"
            ]
          },
          "metadata": {},
          "execution_count": 84
        }
      ],
      "metadata": {}
    },
    {
      "cell_type": "code",
      "execution_count": 19,
      "source": [
        "function sum(x, args...) # Variable Arguments\n",
        "    sum = x\n",
        "    for arg in args\n",
        "        sum += arg\n",
        "    end\n",
        "    return sum\n",
        "end\n",
        "println(sum(1, 2, 3, 4))\n",
        "A = [5, 6, 7, 8]\n",
        "println(sum(A...))"
      ],
      "outputs": [
        {
          "output_type": "stream",
          "name": "stdout",
          "text": [
            "10\n",
            "26\n"
          ]
        }
      ],
      "metadata": {}
    },
    {
      "cell_type": "code",
      "execution_count": 20,
      "source": [
        "# Optional Arguments\n",
        "function parse(T::Type{<:Real}, num::String, base::Int=2)\n",
        "    # Unsupported: Negative, Decimal, Exponential\n",
        "    res = T(num[end]) - 48\n",
        "    for i in 1:(length(num) - 1)\n",
        "        res += T(num[end - i] - 48) * base^i\n",
        "    end\n",
        "    return res\n",
        "end\n",
        "println(parse(Int, \"1101\"))\n",
        "println(parse(Int, \"1101\", 10))"
      ],
      "outputs": [
        {
          "output_type": "stream",
          "name": "stdout",
          "text": [
            "13\n",
            "1101\n"
          ]
        }
      ],
      "metadata": {
        "id": "lTeVEopPCEFz"
      }
    },
    {
      "cell_type": "code",
      "execution_count": 21,
      "source": [
        "# Keyword Arguments\n",
        "function parse(T::Type{<:Real}, num::String; base::Int=2)\n",
        "    # Unsupported: Negative, Decimal, Exponential\n",
        "    res = T(num[end]) - 48\n",
        "    for i in 1:(length(num) - 1)\n",
        "        res += T(num[end - i] - 48) * base^i\n",
        "    end\n",
        "    return res\n",
        "end\n",
        "println(parse(Int, \"1101\"))\n",
        "println(parse(Int, \"1101\", base=10))"
      ],
      "outputs": [
        {
          "output_type": "stream",
          "name": "stdout",
          "text": [
            "13\n",
            "1101\n"
          ]
        }
      ],
      "metadata": {}
    },
    {
      "cell_type": "code",
      "execution_count": 22,
      "source": [
        "# Do-Block Syntax\n",
        "open(\"file.txt\", \"w\") do io\n",
        "    write(io, \"Hello World!\")\n",
        "end"
      ],
      "outputs": [
        {
          "output_type": "execute_result",
          "data": {
            "text/plain": [
              "12"
            ]
          },
          "metadata": {},
          "execution_count": 22
        }
      ],
      "metadata": {}
    },
    {
      "cell_type": "markdown",
      "source": [
        "## Vectorized Functions (Broadcast)"
      ],
      "metadata": {
        "id": "1I6y88qxCDtC"
      }
    },
    {
      "cell_type": "code",
      "execution_count": 23,
      "source": [
        "[1, 2, 3] .^ 3; (^).([1, 2, 3], 3) # Vectorized \"Dot\" Operation\n",
        "broadcast(x -> x^3, [1, 2, 3]) # Broadcast Operation (<=> \"Dot\")"
      ],
      "outputs": [
        {
          "output_type": "execute_result",
          "data": {
            "text/plain": [
              "3-element Vector{Int64}:\n",
              "  1\n",
              "  8\n",
              " 27"
            ]
          },
          "metadata": {},
          "execution_count": 23
        }
      ],
      "metadata": {}
    },
    {
      "cell_type": "code",
      "execution_count": 24,
      "source": [
        "even(x) = x % 2; even.([1, 2, 3]) # Vectorized User-Defined Function\n",
        "⊗(A, B) = kron(A, B) # Vectorized User-Defined Operator"
      ],
      "outputs": [
        {
          "output_type": "execute_result",
          "data": {
            "text/plain": [
              "⊗ (generic function with 1 method)"
            ]
          },
          "metadata": {},
          "execution_count": 24
        }
      ],
      "metadata": {
        "id": "_PwelBg2CHbA"
      }
    },
    {
      "cell_type": "markdown",
      "source": [
        "## Control Flow (If-Else, Loops)"
      ],
      "metadata": {
        "id": "AX5fgJOACHju"
      }
    },
    {
      "cell_type": "code",
      "execution_count": 25,
      "source": [
        "# Compound Expressions (`begin` and `;`)\n",
        "z = begin\n",
        "    x = 1\n",
        "    y = 2\n",
        "    x + y\n",
        "end\n",
        "z = (x = 1; y = 2; x + y)"
      ],
      "outputs": [
        {
          "output_type": "execute_result",
          "data": {
            "text/plain": [
              "3"
            ]
          },
          "metadata": {},
          "execution_count": 25
        }
      ],
      "metadata": {}
    },
    {
      "cell_type": "code",
      "execution_count": 26,
      "source": [
        "# Conditional Evaluation (`if-elseif-else` and `?:`)\n",
        "x = 1\n",
        "if x > 0\n",
        "    println(\"$x is positive\")\n",
        "else\n",
        "    println(\"$x is negative\")\n",
        "end\n",
        "x = -1\n",
        "println(x, x > 0 ? \" is positive\" : \" is negative\")"
      ],
      "outputs": [
        {
          "output_type": "stream",
          "name": "stdout",
          "text": [
            "1 is positive\n",
            "-1 is negative\n"
          ]
        }
      ],
      "metadata": {}
    },
    {
      "cell_type": "code",
      "execution_count": 27,
      "source": [
        "# Short-Circuit Evaluation (`&&` and `||`)\n",
        "x > 0 && println(\"$x is positive\") # <cond> 'and then' <statement>\n",
        "x > 0 || println(\"$x is negative\") # <cond> 'or else' <statement>"
      ],
      "outputs": [
        {
          "output_type": "stream",
          "name": "stdout",
          "text": [
            "-1 is negative\n"
          ]
        }
      ],
      "metadata": {}
    },
    {
      "cell_type": "code",
      "execution_count": 28,
      "source": [
        "function factorial(n::Int)\n",
        "    n <= 1 && return 1\n",
        "    return  n * factorial(n - 1)\n",
        "end"
      ],
      "outputs": [
        {
          "output_type": "execute_result",
          "data": {
            "text/plain": [
              "factorial (generic function with 1 method)"
            ]
          },
          "metadata": {},
          "execution_count": 28
        }
      ],
      "metadata": {}
    },
    {
      "cell_type": "code",
      "execution_count": 29,
      "source": [
        "# Repeated Evaluation (`while` and `for`)\n",
        "i = 1\n",
        "while i <= 5\n",
        "    # Body\n",
        "    i += 1\n",
        "end\n",
        "for i = 1:5\n",
        "    # Body\n",
        "end\n",
        "for i in [1, 2, 3] # i ∈ [1, 2, 3]\n",
        "    # Body\n",
        "end\n",
        "for i = 1:2, j = 3:4 # Nested For-Loop\n",
        "    println((i, j))\n",
        "end"
      ],
      "outputs": [
        {
          "output_type": "stream",
          "name": "stdout",
          "text": [
            "(1, 3)\n",
            "(1, 4)\n",
            "(2, 3)\n",
            "(2, 4)\n"
          ]
        }
      ],
      "metadata": {}
    },
    {
      "cell_type": "code",
      "execution_count": 30,
      "source": [
        "# Exception Handling (`try-catch`, `error()`, `throw()`)\n",
        "struct MyCustomException <: Exception end"
      ],
      "outputs": [],
      "metadata": {}
    },
    {
      "cell_type": "code",
      "execution_count": 31,
      "source": [
        "f(x) = x >= 0 ? exp(-x) : throw(DomainError())"
      ],
      "outputs": [
        {
          "output_type": "execute_result",
          "data": {
            "text/plain": [
              "f (generic function with 2 methods)"
            ]
          },
          "metadata": {},
          "execution_count": 31
        }
      ],
      "metadata": {}
    },
    {
      "cell_type": "code",
      "execution_count": 32,
      "source": [
        "f(x) = try\n",
        "    sqrt(x)\n",
        "catch\n",
        "    sqrt(complex(x, 0))\n",
        "end\n",
        "println(f(1), \", \", f(-1))\n",
        "f(x) = x >= 0 ? sqrt(x) : sqrt(complex(x, 0));"
      ],
      "outputs": [
        {
          "output_type": "stream",
          "name": "stdout",
          "text": [
            "1.0, 0.0 + 1.0im\n"
          ]
        }
      ],
      "metadata": {}
    },
    {
      "cell_type": "code",
      "execution_count": 33,
      "source": [
        "try #= ... =# catch; #= ... =# end\n",
        "file = open(\"file.txt\")\n",
        "try #= ... =# finally close(file) end"
      ],
      "outputs": [],
      "metadata": {}
    },
    {
      "cell_type": "code",
      "execution_count": 34,
      "source": [
        "# Tasks (Coroutines)\n",
        "function producer(c::Channel)\n",
        "    put!(c, \"Start\")\n",
        "    for n = 1:4\n",
        "        put!(c, 2n)\n",
        "    end\n",
        "    put!(c, \"Stop\")\n",
        "end\n",
        "chnl = Channel(producer)\n",
        "take!(chnl) # Returns \"Start\"\n",
        "take!(chnl); take!(chnl); take!(chnl); take!(chnl) # 2, 4, 6, 8\n",
        "take!(chnl) # Returns \"Stop\"\n",
        "for x in Channel(producer) # Channel - Iterable Object\n",
        "    println(x)\n",
        "end"
      ],
      "outputs": [
        {
          "output_type": "stream",
          "name": "stdout",
          "text": [
            "Start\n",
            "2\n",
            "4\n",
            "6\n",
            "8\n",
            "Stop\n"
          ]
        }
      ],
      "metadata": {
        "id": "c09LLQWYCK07"
      }
    },
    {
      "cell_type": "markdown",
      "source": [
        "## Variable Scope (Local, Global)"
      ],
      "metadata": {
        "id": "2zHyGJf5CK9g"
      }
    },
    {
      "cell_type": "code",
      "execution_count": 35,
      "source": [
        "# local x; global x\n",
        "let w = 10 # Local Scope\n",
        "    while w < 20\n",
        "        w += 1\n",
        "    end\n",
        "end\n",
        "try\n",
        "    w\n",
        "catch e\n",
        "    println(e)\n",
        "end\n"
      ],
      "outputs": [
        {
          "output_type": "stream",
          "name": "stdout",
          "text": [
            "UndefVarError(:w)\n"
          ]
        }
      ],
      "metadata": {
        "id": "BimWREU1CMwW"
      }
    },
    {
      "cell_type": "code",
      "execution_count": 36,
      "source": [
        "const e = 2.71828182845904523536 # Define Constant"
      ],
      "outputs": [
        {
          "output_type": "execute_result",
          "data": {
            "text/plain": [
              "2.718281828459045"
            ]
          },
          "metadata": {},
          "execution_count": 36
        }
      ],
      "metadata": {}
    },
    {
      "cell_type": "markdown",
      "source": [
        "## Types (Julia Type System)"
      ],
      "metadata": {
        "id": "uWeENWM9CM6J"
      }
    },
    {
      "cell_type": "code",
      "execution_count": 37,
      "source": [
        "println((1 + 2)::Int) # Type Assertion"
      ],
      "outputs": [
        {
          "output_type": "stream",
          "name": "stdout",
          "text": [
            "3\n"
          ]
        }
      ],
      "metadata": {}
    },
    {
      "cell_type": "code",
      "execution_count": 38,
      "source": [
        "# x::Float64 = 10 # Type Declaration (Script-Only)\n",
        "function sinc(x)::Float64\n",
        "    x == 0 && return 1\n",
        "    return sin(π * x)/(π * x)\n",
        "end"
      ],
      "outputs": [
        {
          "output_type": "execute_result",
          "data": {
            "text/plain": [
              "sinc (generic function with 1 method)"
            ]
          },
          "metadata": {},
          "execution_count": 38
        }
      ],
      "metadata": {}
    },
    {
      "cell_type": "code",
      "execution_count": 39,
      "source": [
        "abstract type MyAbstractType end\n",
        "abstract type MySubAbstractType <: MyAbstractType end\n",
        " # (AbstractFloat, Integer, Irrational, Rational) <: Real <: Number <: Any\n",
        " # (BigFloat, Float16, Float32, Float64) <: AbstractFloat\n",
        " # (BigInt, Bool, Signed, Unsigned) <: Integer\n",
        " # (Int8, Int16, Int32, Int64) <: Signed ('UInt' -> Unsigned)"
      ],
      "outputs": [],
      "metadata": {}
    },
    {
      "cell_type": "code",
      "execution_count": 40,
      "source": [
        "primitive type MyPrimitiveType <: MyAbstractType 64 end\n",
        "struct Point # Composite Type\n",
        "    x::Real\n",
        "    y::Real\n",
        "end\n",
        "point = Point(1, 2) # Constructor\n",
        "println(fieldnames(Point)) # Field Names List\n",
        "println((point.x, point.y)) # Access Field Values"
      ],
      "outputs": [
        {
          "output_type": "stream",
          "name": "stdout",
          "text": [
            "(:x, :y)\n",
            "(1, 2)\n"
          ]
        }
      ],
      "metadata": {}
    },
    {
      "cell_type": "code",
      "execution_count": 41,
      "source": [
        "mutable struct MutablePoint # Mutable Struct\n",
        "    x::Real\n",
        "    y::Real\n",
        "end\n",
        "point = MutablePoint(1, 2)\n",
        "point.x = 2"
      ],
      "outputs": [
        {
          "output_type": "execute_result",
          "data": {
            "text/plain": [
              "2"
            ]
          },
          "metadata": {},
          "execution_count": 41
        }
      ],
      "metadata": {}
    },
    {
      "cell_type": "code",
      "execution_count": 42,
      "source": [
        "Union{Int, AbstractString} # Type Union (Abstract)\n",
        "struct ParametricPoint{T} # Parametric Composite Type\n",
        "    x::T\n",
        "    y::T\n",
        "end\n",
        "point = ParametricPoint{Int}(1, 2)"
      ],
      "outputs": [
        {
          "output_type": "execute_result",
          "data": {
            "text/plain": [
              "ParametricPoint{Int64}(1, 2)"
            ]
          },
          "metadata": {},
          "execution_count": 42
        }
      ],
      "metadata": {}
    },
    {
      "cell_type": "code",
      "execution_count": 43,
      "source": [
        "Array{Float64}; Array{Real}\n",
        " # Array{Float64}: Contiguous Memory Block\n",
        " # Array{Real}: Pointer Array"
      ],
      "outputs": [
        {
          "output_type": "execute_result",
          "data": {
            "text/plain": [
              "Array{Real, N} where N"
            ]
          },
          "metadata": {},
          "execution_count": 43
        }
      ],
      "metadata": {}
    },
    {
      "cell_type": "code",
      "execution_count": 44,
      "source": [
        "function pnorm(point::ParametricPoint{<:Real}) # Accept Subtypes\n",
        "    sqrt(point.x^2 + point.y^2)\n",
        "end\n",
        "struct Rational{T<:Integer} <: Real\n",
        "    num::T\n",
        "    den::T\n",
        "end"
      ],
      "outputs": [],
      "metadata": {}
    },
    {
      "cell_type": "code",
      "execution_count": 86,
      "source": [
        "typeof((1, 1.0)); Tuple{Int64, Float64} # Tuple Type\n",
        "typeof((1, 2, 3)); NTuple{3, Int64} # Shorthand Notation\n",
        "# NamedTuple{(:a, :b), Int64, Float64} # Named Tuple Type\n",
        "ages = (andrew=20, ryan=16)\n",
        "ages.ryan == ages[:ryan]\n",
        "isa(Float64, Type{Float64}) # Singleton Type"
      ],
      "outputs": [
        {
          "output_type": "execute_result",
          "data": {
            "text/plain": [
              "true"
            ]
          },
          "metadata": {},
          "execution_count": 86
        }
      ],
      "metadata": {}
    },
    {
      "cell_type": "code",
      "execution_count": 46,
      "source": [
        "ParametricPoint{Int} <: ParametricPoint # UnionAll Type\n",
        " # ParametricPoint <-> ParametricPoint{T} where T\n",
        "function pnorm(p::ParametricPoint{T}) where T<:Real\n",
        "    sqrt(p.x^2 + p.y^2)\n",
        "end"
      ],
      "outputs": [
        {
          "output_type": "execute_result",
          "data": {
            "text/plain": [
              "pnorm (generic function with 1 method)"
            ]
          },
          "metadata": {},
          "execution_count": 46
        }
      ],
      "metadata": {}
    },
    {
      "cell_type": "code",
      "execution_count": 47,
      "source": [
        " # Type Variable Bounds: Array{T} where Int<:T<:Number\n",
        " # Shorthand Notation: Array{<:Integer} <-> Array{T} where T<:Integer\n",
        " # Vector: const Vector = Array{T,1} where T | Vector{T} = Array{T,1}\n",
        "# const Int = Int64 # Type Alias (64-Bit)\n",
        "isa(1.0, Float64); typeof(DataType); supertype(Float64); subtypes(Real);"
      ],
      "outputs": [],
      "metadata": {
        "id": "FtliNVHeCOr3"
      }
    },
    {
      "cell_type": "code",
      "execution_count": 48,
      "source": [
        "struct Polar{T<:Real} <: Number\n",
        "    r::T\n",
        "    Θ::T\n",
        "end\n",
        "Polar(r::Real, Θ::Real) = Polar(promote(r, Θ)...)\n",
        "Base.show(io::IO, z::Polar) = print(io, z.r, \" * exp(\", z.Θ, \"im)\")\n",
        "println(Polar(5.2, π/2))"
      ],
      "outputs": [
        {
          "output_type": "stream",
          "name": "stdout",
          "text": [
            "5.2 * exp(1.5707963267948966im)\n"
          ]
        }
      ],
      "metadata": {}
    },
    {
      "cell_type": "markdown",
      "source": [
        "## Methods (Multiple Dispatch)"
      ],
      "metadata": {
        "id": "27B8_hJBCO09"
      }
    },
    {
      "cell_type": "code",
      "execution_count": 49,
      "source": [
        "# Multiple Dispatch: Inspect All Function Arguments -> Invoke Method\n",
        " # Java: method(this, args...) has implicit first argument: this\n",
        " # Python: method(self, args...) has explicit first argument: self\n",
        " # => Single Dispatch: obj.method(args...) -> method(obj, args...)"
      ],
      "outputs": [],
      "metadata": {}
    },
    {
      "cell_type": "code",
      "execution_count": 50,
      "source": [
        "f(x::Float64, y::Float64) = 2x + y\n",
        "# f(1, 2) # Invalid Arguments\n",
        "f(x::Number, y::Number) = 2x + y\n",
        "f(1, 2.0) # Method Selection\n",
        "methods(f) # Method Signatures"
      ],
      "outputs": [
        {
          "output_type": "execute_result",
          "data": {
            "text/html": [
              "# 4 methods for generic function <b>f</b>:<ul><li> f(x::<b>Float64</b>, y::<b>Float64</b>) in Main at In[50]:1</li> <li> f(x::<b>Number</b>, y::<b>Number</b>) in Main at In[50]:3</li> <li> f(x) in Main at In[32]:7</li> <li> f(x, y) in Main at In[14]:4</li> </ul>"
            ],
            "text/plain": [
              "# 4 methods for generic function \"f\":\n",
              "[1] f(x::Float64, y::Float64) in Main at In[50]:1\n",
              "[2] f(x::Number, y::Number) in Main at In[50]:3\n",
              "[3] f(x) in Main at In[32]:7\n",
              "[4] f(x, y) in Main at In[14]:4"
            ]
          },
          "metadata": {},
          "execution_count": 50
        }
      ],
      "metadata": {}
    },
    {
      "cell_type": "code",
      "execution_count": 85,
      "source": [
        "h(x::Float64, y) = 2x + y\n",
        "h(x, y::Float64) = 2x + y\n",
        "h(1.0, 2.0) # Method Ambiguity"
      ],
      "outputs": [
        {
          "output_type": "stream",
          "name": "stdout",
          "text": [
            "MethodError(h, (1.0, 2.0), 0x000000000000741b)\n"
          ]
        }
      ],
      "metadata": {}
    },
    {
      "cell_type": "code",
      "execution_count": 52,
      "source": [
        "same_type(x::T, y::T) where {T} = true # Parametric Method\n",
        "same_type(x, y) = false\n",
        "# append(v::Vector{T}, x::T) where {T} = [v..., x]\n",
        "# typeof(x::T) where {T} = T"
      ],
      "outputs": [
        {
          "output_type": "execute_result",
          "data": {
            "text/plain": [
              "same_type (generic function with 2 methods)"
            ]
          },
          "metadata": {},
          "execution_count": 52
        }
      ],
      "metadata": {}
    },
    {
      "cell_type": "code",
      "execution_count": 53,
      "source": [
        " # For 1 Argument:  where {T} == where T (Optional {})\n",
        " # For 2 Arguments: where {T, S} == where S where T (Nested)\n",
        "#  getindex(A::AbstractArray{T, N}, indexes::Vararg{Number, N}) where {T, N} = A[indexes...]"
      ],
      "outputs": [
        {
          "output_type": "execute_result",
          "data": {
            "text/plain": [
              "getindex (generic function with 1 method)"
            ]
          },
          "metadata": {},
          "execution_count": 53
        }
      ],
      "metadata": {}
    },
    {
      "cell_type": "code",
      "execution_count": 54,
      "source": [
        "struct Polynomial{R}\n",
        "    coeffs::Vector{R}\n",
        "end\n",
        "function (poly::Polynomial)(x) # Functor (Ex: Constructor)\n",
        "    polyval = poly.coeffs[1]\n",
        "    for i = 2:length(poly.coeffs)\n",
        "        polyval += poly.coeffs[i] * x^(i - 1)\n",
        "    end\n",
        "    return polyval\n",
        "end\n",
        "poly = Polynomial([1, 10, 100])\n",
        "poly(3)"
      ],
      "outputs": [
        {
          "output_type": "execute_result",
          "data": {
            "text/plain": [
              "931"
            ]
          },
          "metadata": {},
          "execution_count": 54
        }
      ],
      "metadata": {}
    },
    {
      "cell_type": "code",
      "execution_count": 55,
      "source": [
        "Point(x) = Point(x, 0) # Outer Constructor\n",
        "struct OrderedPair # Inner Constructor\n",
        "    x::Real\n",
        "    y::Real\n",
        "    OrderedPair(x, y) = x > y ? error(\"Constraint: x <= y\") : new(x, y)\n",
        "end"
      ],
      "outputs": [],
      "metadata": {}
    },
    {
      "cell_type": "code",
      "execution_count": 56,
      "source": [
        "mutable struct SelfReferential\n",
        "    obj::SelfReferential\n",
        "    SelfReferential() = (x = new(); x.obj = x)\n",
        "end"
      ],
      "outputs": [],
      "metadata": {}
    },
    {
      "cell_type": "code",
      "execution_count": 57,
      "source": [
        "struct ConstructPoint{T<:Real} # Parametric Constructor\n",
        "    x::T\n",
        "    y::T\n",
        "    ConstructPoint{T}(x, y) where {T<:Real} = new(x, y)\n",
        "end\n",
        "Point(x::T, y::T) where {T<:Real} = Point{T}(x, y)\n",
        "Point(x::Real, y::Real) = Point(promote(x, y)...)"
      ],
      "outputs": [
        {
          "output_type": "execute_result",
          "data": {
            "text/plain": [
              "Point"
            ]
          },
          "metadata": {},
          "execution_count": 57
        }
      ],
      "metadata": {
        "id": "i6_jYcVOCQ4L"
      }
    },
    {
      "cell_type": "markdown",
      "source": [
        "## Conversion and Promotion"
      ],
      "metadata": {
        "id": "xklUKjO_CRDo"
      }
    },
    {
      "cell_type": "code",
      "execution_count": 58,
      "source": [
        "Int64(12.0) # convert(Int64, 12.0)\n",
        "# Base.convert(::Type{Bool}, x::Real) = x == 0 ? false : x == 1 ? true : throw(InexactError())\n",
        "promote(1, 2.5); promote(2.0, 3//4); promote(1 + 2im, 1.5)\n",
        "# +(x::Number, y::Number) = +(promote(x, y)...)\n",
        "# Base.promote_rule(::Type{Float64}, ::Type{Float32}) = Float64"
      ],
      "outputs": [
        {
          "output_type": "execute_result",
          "data": {
            "text/plain": [
              "(1.0 + 2.0im, 1.5 + 0.0im)"
            ]
          },
          "metadata": {},
          "execution_count": 58
        }
      ],
      "metadata": {
        "id": "ID18N-0ICS3-"
      }
    },
    {
      "cell_type": "markdown",
      "source": [
        "## Multi-Dimensional Arrays"
      ],
      "metadata": {
        "id": "dNOQkKvUCTAk"
      }
    },
    {
      "cell_type": "code",
      "execution_count": 59,
      "source": [
        "A = Array{Int}(undef, 4) # Uninitialized Two-Dimensional Array"
      ],
      "outputs": [
        {
          "output_type": "execute_result",
          "data": {
            "text/plain": [
              "4-element Vector{Int64}:\n",
              " 140082473374512\n",
              " 140082396883376\n",
              " 140082466311168\n",
              " 140082405250944"
            ]
          },
          "metadata": {},
          "execution_count": 59
        }
      ],
      "metadata": {}
    },
    {
      "cell_type": "code",
      "execution_count": 60,
      "source": [
        "using LinearAlgebra\n",
        "zeros(Int, 2); ones(Int, 2) # Array Construction\n",
        "B = Matrix(I, 2, 2) # 'Explicit' Identity Matrix\n",
        "fill(\"Value\", 2); fill!(A, 10) # Fill Array\n",
        "rand(Int, 2) # Uniform Distribution"
      ],
      "outputs": [
        {
          "output_type": "execute_result",
          "data": {
            "text/plain": [
              "2-element Vector{Int64}:\n",
              "  6023330182588278303\n",
              " -8220736074735307172"
            ]
          },
          "metadata": {},
          "execution_count": 60
        }
      ],
      "metadata": {}
    },
    {
      "cell_type": "code",
      "execution_count": 61,
      "source": [
        "eltype(A); length(A); ndims(A); size(A)\n",
        "reshape(A, (2, 2)) # Reshape Array (Modify Dimensions)"
      ],
      "outputs": [
        {
          "output_type": "execute_result",
          "data": {
            "text/plain": [
              "2×2 Matrix{Int64}:\n",
              " 10  10\n",
              " 10  10"
            ]
          },
          "metadata": {},
          "execution_count": 61
        }
      ],
      "metadata": {}
    },
    {
      "cell_type": "code",
      "execution_count": 62,
      "source": [
        "B = copy(A); cat(A, B, dims=1) # Concatenate Along Specified Dimension\n",
        "vcat(A, B); cat(A, B, dims=1); [A; B] # Vertical Concatenation\n",
        "hcat(A, B); cat(A, B, dims=2); [A B] # Horizontal Concatenation\n",
        "transpose(A); adjoint(A); A' # [Conjugate] Transpose"
      ],
      "outputs": [
        {
          "output_type": "execute_result",
          "data": {
            "text/plain": [
              "1×4 adjoint(::Vector{Int64}) with eltype Int64:\n",
              " 10  10  10  10"
            ]
          },
          "metadata": {},
          "execution_count": 62
        }
      ],
      "metadata": {}
    },
    {
      "cell_type": "code",
      "execution_count": 63,
      "source": [
        "Int[1, 2, 3, 4] # Initialize Typed Array"
      ],
      "outputs": [
        {
          "output_type": "execute_result",
          "data": {
            "text/plain": [
              "4-element Vector{Int64}:\n",
              " 1\n",
              " 2\n",
              " 3\n",
              " 4"
            ]
          },
          "metadata": {},
          "execution_count": 63
        }
      ],
      "metadata": {}
    },
    {
      "cell_type": "code",
      "execution_count": 64,
      "source": [
        "squares = [i^2 for i = 1:10] # Comprehension\n",
        "squares = (i^2 for i = 1:10) # Generator (No Memory Allocation)\n",
        "println(sum(squares)) # Memory Allocated On-Demand\n",
        "even_squares = (i^2 for i = 1:10 if i % 2 == 0) # Filtering"
      ],
      "outputs": [
        {
          "output_type": "stream",
          "name": "stdout",
          "text": [
            "Base.Generator{UnitRange{Int64}, var\"#14#15\"}(var\"#14#15\"(), 1:10)\n"
          ]
        },
        {
          "output_type": "execute_result",
          "data": {
            "text/plain": [
              "Base.Generator{Base.Iterators.Filter{var\"#17#19\", UnitRange{Int64}}, var\"#16#18\"}(var\"#16#18\"(), Base.Iterators.Filter{var\"#17#19\", UnitRange{Int64}}(var\"#17#19\"(), 1:10))"
            ]
          },
          "metadata": {},
          "execution_count": 64
        }
      ],
      "metadata": {}
    },
    {
      "cell_type": "code",
      "execution_count": 65,
      "source": [
        "getindex(A, 1); A[1] # Array Indexing\n",
        "setindex!(A, 10, 1); A[1] = 10 # Array Assignment\n",
        "C = [1 2; 3 4]; println(C[2, :]) # Array Splicing\n",
        "for (index, value) in enumerate(A) # Enumeration\n",
        "    println(\"A[$index] = $value\")\n",
        "end"
      ],
      "outputs": [
        {
          "output_type": "stream",
          "name": "stdout",
          "text": [
            "[3, 4]\n",
            "A[1] = 10\n",
            "A[2] = 10\n",
            "A[3] = 10\n",
            "A[4] = 10\n"
          ]
        }
      ],
      "metadata": {}
    },
    {
      "cell_type": "code",
      "execution_count": 66,
      "source": [
        "# push!(); pop!(); insert!(); splice!() # List Operations\n",
        "# union(); intersect(); setdiff(); issubset() # Set Operations {∪, ∩, ⊆}\n",
        "# issubset(); in() # Subset Operations {⊆, ⊈, ⊇, ⊉}, Set Member {∈}"
      ],
      "outputs": [],
      "metadata": {
        "id": "_Nr-ybIVCVaB"
      }
    },
    {
      "cell_type": "markdown",
      "source": [
        "## Interfaces (Iteration)"
      ],
      "metadata": {
        "id": "JQJzsGvpCViA"
      }
    },
    {
      "cell_type": "code",
      "execution_count": 67,
      "source": [
        "# function Base.iterate(iterable, state=(iterable.start, 0))\n",
        "#     element, index = state\n",
        "#     index >= iterable.length && return nothing\n",
        "#     return (element, (f(element), index + 1))\n",
        "# end\n",
        "# function Base.iterate(iterable, (el, i)=(iterable.start, 0))\n",
        "#     return i >= iterable.length ? nothing : (el, (f(el), i + 1))\n",
        "# end"
      ],
      "outputs": [],
      "metadata": {}
    },
    {
      "cell_type": "code",
      "execution_count": 68,
      "source": [
        "struct Squares\n",
        "    count::Int\n",
        "end\n",
        "function Base.iterate(iterable::Squares, state=1)\n",
        "\treturn state > iterable.count ? nothing : (state^2, state + 1)\n",
        "end\n",
        "Base.eltype(iterable::Squares) = Int\n",
        "Base.length(iterable::Squares) = iterable.count\n",
        "foreach(println, Squares(7))\n",
        "println(25 in Squares(10))"
      ],
      "outputs": [
        {
          "output_type": "stream",
          "name": "stdout",
          "text": [
            "1\n",
            "4\n",
            "9\n",
            "16\n",
            "25\n",
            "36\n",
            "49\n",
            "true\n"
          ]
        }
      ],
      "metadata": {}
    },
    {
      "cell_type": "code",
      "execution_count": 69,
      "source": [
        "let iterable = Squares(7), next = iterate(iterable)\n",
        "    while next !== nothing\n",
        "        el, state = next\n",
        "        println(el) # Body\n",
        "        next = iterate(iterable, state)\n",
        "    end\n",
        "end"
      ],
      "outputs": [
        {
          "output_type": "stream",
          "name": "stdout",
          "text": [
            "1\n",
            "4\n",
            "9\n",
            "16\n",
            "25\n",
            "36\n",
            "49\n"
          ]
        }
      ],
      "metadata": {}
    },
    {
      "cell_type": "code",
      "execution_count": 70,
      "source": [
        "collect(Squares(10)) # Collection -> Array"
      ],
      "outputs": [
        {
          "output_type": "execute_result",
          "data": {
            "text/plain": [
              "10-element Vector{Int64}:\n",
              "   1\n",
              "   4\n",
              "   9\n",
              "  16\n",
              "  25\n",
              "  36\n",
              "  49\n",
              "  64\n",
              "  81\n",
              " 100"
            ]
          },
          "metadata": {},
          "execution_count": 70
        }
      ],
      "metadata": {}
    },
    {
      "cell_type": "code",
      "execution_count": 71,
      "source": [
        "Base.sum(S::Squares) = (n = S.count; return n * (n + 1) * (2n + 1) / 6)\n",
        "sum(Squares(1803))"
      ],
      "outputs": [
        {
          "output_type": "execute_result",
          "data": {
            "text/plain": [
              "Squares(1803)"
            ]
          },
          "metadata": {},
          "execution_count": 71
        }
      ],
      "metadata": {}
    },
    {
      "cell_type": "code",
      "execution_count": 72,
      "source": [
        "function Base.getindex(S::Squares, i::Int)\n",
        "    1 <= i <= S.count || throw(BoundsError(S, i))\n",
        "    return i^2\n",
        "end\n",
        "println(Squares(100)[25])\n",
        "Base.firstindex(S::Squares) = 1\n",
        "Base.lastindex(S::Squares) = length(S)\n",
        "println(Squares(100)[end])"
      ],
      "outputs": [
        {
          "output_type": "stream",
          "name": "stdout",
          "text": [
            "625\n",
            "10000\n"
          ]
        }
      ],
      "metadata": {
        "id": "L8I56NWgCXYB"
      }
    },
    {
      "cell_type": "markdown",
      "source": [
        "## Modules (Variable Workspaces)"
      ],
      "metadata": {
        "id": "E7Df4t-BCXgP"
      }
    },
    {
      "cell_type": "code",
      "execution_count": 73,
      "source": [
        " # Julia Load Path: push!(LOAD_PATH, \"/Path/To/My/Module/\")\n",
        " # Julia Startup File: ~/.julia/config/startup.jl\n",
        "module Coord2D\n",
        "import Base.convert\n",
        "export Cartesian, Polar\n",
        "struct Cartesian{T<:Real}\n",
        "    x::T\n",
        "    y::T\n",
        "end\n",
        "struct Polar{T<:Real}\n",
        "    r::T # Radius\n",
        "    θ::T # Angle {Degrees}\n",
        "end\n",
        "convert(::Type{Cartesian}, P::Polar) = Cartesian(P.r * cosd(P.θ), P.r * sind(P.θ))\n",
        "convert(::Type{Polar}, P::Cartesian) = Polar(sqrt(P.x^2 + P.y^2), atand(P.y / P.x))\n",
        "end"
      ],
      "outputs": [
        {
          "output_type": "execute_result",
          "data": {
            "text/plain": [
              "Main.Coord2D"
            ]
          },
          "metadata": {},
          "execution_count": 73
        }
      ],
      "metadata": {
        "id": "MZCTZxmuCZSj"
      }
    }
  ]
}